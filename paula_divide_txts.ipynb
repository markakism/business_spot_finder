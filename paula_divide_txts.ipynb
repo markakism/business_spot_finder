{
 "cells": [
  {
   "cell_type": "markdown",
   "id": "0cd1e8ca",
   "metadata": {},
   "source": [
    "**First notebook project week LeWagon**"
   ]
  },
  {
   "cell_type": "code",
   "execution_count": 3,
   "id": "2dbcc8cc",
   "metadata": {},
   "outputs": [],
   "source": [
    "import pandas as pd\n",
    "import numpy as np\n",
    "import requests\n",
    "import matplotlib.pyplot as plt"
   ]
  },
  {
   "cell_type": "markdown",
   "id": "efa627ba",
   "metadata": {},
   "source": [
    "**Load first batch of reviews in txt**"
   ]
  },
  {
   "cell_type": "code",
   "execution_count": 4,
   "id": "c4bc5212",
   "metadata": {},
   "outputs": [],
   "source": [
    "data = pd.read_json('json_files/urls_shops_b1.json')"
   ]
  },
  {
   "cell_type": "code",
   "execution_count": 5,
   "id": "7f1d7e0b",
   "metadata": {},
   "outputs": [],
   "source": [
    "data_red = data.loc[501:700]"
   ]
  },
  {
   "cell_type": "code",
   "execution_count": 6,
   "id": "91494093",
   "metadata": {},
   "outputs": [
    {
     "data": {
      "text/html": [
       "<div>\n",
       "<style scoped>\n",
       "    .dataframe tbody tr th:only-of-type {\n",
       "        vertical-align: middle;\n",
       "    }\n",
       "\n",
       "    .dataframe tbody tr th {\n",
       "        vertical-align: top;\n",
       "    }\n",
       "\n",
       "    .dataframe thead th {\n",
       "        text-align: right;\n",
       "    }\n",
       "</style>\n",
       "<table border=\"1\" class=\"dataframe\">\n",
       "  <thead>\n",
       "    <tr style=\"text-align: right;\">\n",
       "      <th></th>\n",
       "      <th>url</th>\n",
       "    </tr>\n",
       "  </thead>\n",
       "  <tbody>\n",
       "    <tr>\n",
       "      <th>501</th>\n",
       "      <td>https://www.google.com/maps/search/?api=1&amp;quer...</td>\n",
       "    </tr>\n",
       "    <tr>\n",
       "      <th>502</th>\n",
       "      <td>https://www.google.com/maps/search/?api=1&amp;quer...</td>\n",
       "    </tr>\n",
       "    <tr>\n",
       "      <th>503</th>\n",
       "      <td>https://www.google.com/maps/search/?api=1&amp;quer...</td>\n",
       "    </tr>\n",
       "    <tr>\n",
       "      <th>504</th>\n",
       "      <td>https://www.google.com/maps/search/?api=1&amp;quer...</td>\n",
       "    </tr>\n",
       "    <tr>\n",
       "      <th>505</th>\n",
       "      <td>https://www.google.com/maps/search/?api=1&amp;quer...</td>\n",
       "    </tr>\n",
       "  </tbody>\n",
       "</table>\n",
       "</div>"
      ],
      "text/plain": [
       "                                                   url\n",
       "501  https://www.google.com/maps/search/?api=1&quer...\n",
       "502  https://www.google.com/maps/search/?api=1&quer...\n",
       "503  https://www.google.com/maps/search/?api=1&quer...\n",
       "504  https://www.google.com/maps/search/?api=1&quer...\n",
       "505  https://www.google.com/maps/search/?api=1&quer..."
      ]
     },
     "execution_count": 6,
     "metadata": {},
     "output_type": "execute_result"
    }
   ],
   "source": [
    "data_red.head()"
   ]
  },
  {
   "cell_type": "code",
   "execution_count": 7,
   "id": "f9015f69",
   "metadata": {},
   "outputs": [],
   "source": [
    "data_red.to_csv(r'urls_b1_501_700.txt', header=None, index=None, mode='a')"
   ]
  }
 ],
 "metadata": {
  "kernelspec": {
   "display_name": "Python 3 (ipykernel)",
   "language": "python",
   "name": "python3"
  },
  "language_info": {
   "codemirror_mode": {
    "name": "ipython",
    "version": 3
   },
   "file_extension": ".py",
   "mimetype": "text/x-python",
   "name": "python",
   "nbconvert_exporter": "python",
   "pygments_lexer": "ipython3",
   "version": "3.10.6"
  },
  "toc": {
   "base_numbering": 1,
   "nav_menu": {},
   "number_sections": true,
   "sideBar": true,
   "skip_h1_title": false,
   "title_cell": "Table of Contents",
   "title_sidebar": "Contents",
   "toc_cell": false,
   "toc_position": {},
   "toc_section_display": true,
   "toc_window_display": false
  }
 },
 "nbformat": 4,
 "nbformat_minor": 5
}
